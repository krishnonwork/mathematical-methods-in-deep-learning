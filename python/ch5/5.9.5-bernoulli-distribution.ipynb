{
 "cells": [
  {
   "cell_type": "code",
   "execution_count": 1,
   "metadata": {},
   "outputs": [],
   "source": [
    "import numpy as np\n",
    "import matplotlib.pyplot as plt\n",
    "\n",
    "import torch"
   ]
  },
  {
   "cell_type": "markdown",
   "metadata": {},
   "source": [
    "### Bernoulli Distribution\n"
   ]
  },
  {
   "cell_type": "code",
   "execution_count": 2,
   "metadata": {},
   "outputs": [],
   "source": [
    "from torch.distributions import Bernoulli\n",
    "\n",
    "p = torch.tensor([0.3], dtype=torch.float)\n",
    "\n",
    "bern_dist = Bernoulli(p)\n",
    "\n",
    "X = torch.tensor([1], dtype=torch.float)\n",
    "\n",
    "def formula(X, p):\n",
    "    prob = p if X == 1 else 1-p\n",
    "    return torch.log(prob)\n",
    "\n",
    "log_prob = bern_dist.log_prob(X)\n",
    "\n",
    "formula_log_prob = formula(X, p)\n",
    "\n",
    "assert torch.isclose(log_prob, formula_log_prob, atol=1e-4)\n",
    "\n",
    "# Sampling\n",
    "\n",
    "num_samples = 100000\n",
    "\n",
    "samples = bern_dist.sample([num_samples])\n",
    "\n",
    "# Mean\n",
    "    \n",
    "sample_mean = samples.mean()\n",
    "\n",
    "dist_mean = bern_dist.mean\n",
    "\n",
    "assert np.isclose(sample_mean, dist_mean, atol=0.2)\n",
    "\n",
    "# Variance\n",
    "\n",
    "sample_var = bern_dist.sample([num_samples]).var()\n",
    "\n",
    "dist_var = bern_dist.variance\n",
    "\n",
    "assert torch.isclose(sample_var, dist_var, atol=0.2)"
   ]
  }
 ],
 "metadata": {
  "kernelspec": {
   "display_name": "Python 3",
   "language": "python",
   "name": "python3"
  },
  "language_info": {
   "codemirror_mode": {
    "name": "ipython",
    "version": 3
   },
   "file_extension": ".py",
   "mimetype": "text/x-python",
   "name": "python",
   "nbconvert_exporter": "python",
   "pygments_lexer": "ipython3",
   "version": "3.7.5"
  }
 },
 "nbformat": 4,
 "nbformat_minor": 2
}
