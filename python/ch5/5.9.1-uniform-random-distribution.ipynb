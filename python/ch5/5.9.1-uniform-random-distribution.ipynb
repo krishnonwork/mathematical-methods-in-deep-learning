{
 "cells": [
  {
   "cell_type": "code",
   "execution_count": 1,
   "metadata": {},
   "outputs": [],
   "source": [
    "import numpy as np\n",
    "import matplotlib.pyplot as plt\n",
    "\n",
    "import torch"
   ]
  },
  {
   "cell_type": "markdown",
   "metadata": {},
   "source": [
    "### Uniform Distribution\n"
   ]
  },
  {
   "cell_type": "code",
   "execution_count": 2,
   "metadata": {},
   "outputs": [],
   "source": [
    "from torch.distributions import Uniform\n",
    "\n",
    "a = torch.tensor([1.0], dtype=torch.float)\n",
    "b = torch.tensor([5.0], dtype=torch.float)\n",
    "\n",
    "ufm_dist = Uniform(a, b)\n",
    "\n",
    "X = torch.tensor([2.0], dtype=torch.float)\n",
    "\n",
    "# Log prob\n",
    "\n",
    "def formula(X, a, b):\n",
    "    return torch.log(1 / (b - a))\n",
    "\n",
    "log_prob = ufm_dist.log_prob(X)\n",
    "\n",
    "formula_log_prob = formula(X, a, b)\n",
    "\n",
    "assert torch.isclose(log_prob, formula_log_prob, atol=1e-4)\n",
    "\n",
    "# Sampling\n",
    "\n",
    "num_samples = 100000\n",
    "\n",
    "samples = ufm_dist.sample([num_samples])\n",
    "\n",
    "# Mean\n",
    "    \n",
    "sample_mean = samples.mean()\n",
    "\n",
    "dist_mean = ufm_dist.mean\n",
    "\n",
    "assert torch.isclose(sample_mean, dist_mean, atol=0.2)\n",
    "\n",
    "# Variance\n",
    "\n",
    "sample_var = ufm_dist.sample([num_samples]).var()\n",
    "\n",
    "dist_var = ufm_dist.variance\n",
    "\n",
    "assert torch.isclose(sample_var, dist_var, atol=0.2)"
   ]
  },
  {
   "cell_type": "markdown",
   "metadata": {},
   "source": [
    "Here we allow the user to set different values for the parameters $a$ and $b$ of the univariate uniform distribution and visualise the resulting uniform distribution. "
   ]
  },
  {
   "cell_type": "code",
   "execution_count": 3,
   "metadata": {},
   "outputs": [
    {
     "data": {
      "application/vnd.jupyter.widget-view+json": {
       "model_id": "5dcedfca5e354056b4a9d20fe08022b8",
       "version_major": 2,
       "version_minor": 0
      },
      "text/plain": [
       "Canvas(toolbar=Toolbar(toolitems=[('Home', 'Reset original view', 'home', 'home'), ('Back', 'Back to  previous…"
      ]
     },
     "metadata": {},
     "output_type": "display_data"
    },
    {
     "data": {
      "application/vnd.jupyter.widget-view+json": {
       "model_id": "bc9d0e8f27014c32969ed10ff9d8b938",
       "version_major": 2,
       "version_minor": 0
      },
      "text/plain": [
       "interactive(children=(FloatSlider(value=25.0, description='a', max=50.0, step=5.0), FloatSlider(value=35.0, de…"
      ]
     },
     "metadata": {},
     "output_type": "display_data"
    }
   ],
   "source": [
    "%matplotlib widget\n",
    "import ipywidgets as widgets\n",
    "from ipywidgets import interact, interact_manual\n",
    "\n",
    "fig, ax = plt.subplots()\n",
    "\n",
    "\n",
    "@interact\n",
    "def plot_uniform_dist(a=(0, 50, 5.0), \n",
    "                      b=(10, 60, 5.0)):\n",
    "    def _clear_plot(ax):\n",
    "        ax.clear()\n",
    "        ax.set_title(\"Univariate uniform distribution\")\n",
    "        ax.set_ylabel(\"P(X)\")\n",
    "        ax.set_xlabel(\"X\")\n",
    "    assert b > a, \"b has to be greater than a\"\n",
    "    x = np.linspace(a-((a+b) / 2.0), b+((a+b) / 2.0), 100)\n",
    "    ufm_dist = Uniform(torch.tensor([a], dtype=torch.float), torch.tensor([b], dtype=torch.float))\n",
    "    prob = ufm_dist.log_prob(torch.from_numpy(x).float()).exp()\n",
    "    _clear_plot(ax)\n",
    "    ax.plot(x, prob)    "
   ]
  }
 ],
 "metadata": {
  "kernelspec": {
   "display_name": "Python 3",
   "language": "python",
   "name": "python3"
  },
  "language_info": {
   "codemirror_mode": {
    "name": "ipython",
    "version": 3
   },
   "file_extension": ".py",
   "mimetype": "text/x-python",
   "name": "python",
   "nbconvert_exporter": "python",
   "pygments_lexer": "ipython3",
   "version": "3.7.5"
  }
 },
 "nbformat": 4,
 "nbformat_minor": 2
}
