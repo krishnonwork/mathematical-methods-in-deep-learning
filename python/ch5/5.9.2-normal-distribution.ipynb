{
 "cells": [
  {
   "cell_type": "code",
   "execution_count": 1,
   "metadata": {},
   "outputs": [],
   "source": [
    "import numpy as np\n",
    "import matplotlib.pyplot as plt\n",
    "\n",
    "import math\n",
    "import torch\n",
    "from torch.distributions import Normal, MultivariateNormal\n",
    "from torch import matmul"
   ]
  },
  {
   "cell_type": "markdown",
   "metadata": {},
   "source": [
    "## Univariate Normal Distribution"
   ]
  },
  {
   "cell_type": "code",
   "execution_count": 2,
   "metadata": {},
   "outputs": [],
   "source": [
    "from torch.distributions import Normal\n",
    "\n",
    "mu = torch.tensor([0.0], dtype=torch.float)\n",
    "sigma = torch.tensor([5.0], dtype=torch.float)\n",
    "\n",
    "uvn_dist = Normal(mu, sigma)\n",
    "\n",
    "X = torch.tensor([0.0], dtype=torch.float)\n",
    "\n",
    "# Log prob\n",
    "\n",
    "def formula(X, mu, sigma):\n",
    "    K = 1 / (math.sqrt(2 * math.pi) * sigma)\n",
    "    E = math.exp( -1 * (X - mu) ** 2 * (1 / (2 * sigma ** 2)))\n",
    "    return torch.log(K * E)\n",
    "\n",
    "log_prob = uvn_dist.log_prob(X)\n",
    "\n",
    "formula_log_prob = formula(X, mu, sigma)\n",
    "\n",
    "assert torch.isclose(log_prob, formula_log_prob, atol=1e-4)\n",
    "\n",
    "# Sampling\n",
    "\n",
    "num_samples = 100000\n",
    "\n",
    "samples = uvn_dist.sample([num_samples])\n",
    "\n",
    "# Mean\n",
    "    \n",
    "sample_mean = samples.mean()\n",
    "\n",
    "dist_mean = uvn_dist.mean\n",
    "\n",
    "assert torch.isclose(sample_mean, dist_mean, atol=0.2)\n",
    "\n",
    "# Variance\n",
    "\n",
    "sample_var = uvn_dist.sample([num_samples]).var()\n",
    "\n",
    "dist_var = uvn_dist.variance\n",
    "\n",
    "assert torch.isclose(sample_var, dist_var, atol=0.2)"
   ]
  },
  {
   "cell_type": "markdown",
   "metadata": {},
   "source": [
    "Here we allow the user to set different values for the mean and variance of a univariate normal distribution and visualise the resulting distribution. \n",
    "Specifically, notice that changing the mean does not change the shape of the distribution. It just varies where the distribution peaks. Changing the variance causes the distribution to either become more diffuse / peaked.\n",
    "\n",
    "Note: In order to run this section, please download the notebook. Interactive snippets do not work online. "
   ]
  },
  {
   "cell_type": "code",
   "execution_count": 3,
   "metadata": {},
   "outputs": [
    {
     "data": {
      "application/vnd.jupyter.widget-view+json": {
       "model_id": "278f4e5964054a80bc9c6deaecb374ef",
       "version_major": 2,
       "version_minor": 0
      },
      "text/plain": [
       "Canvas(toolbar=Toolbar(toolitems=[('Home', 'Reset original view', 'home', 'home'), ('Back', 'Back to  previous…"
      ]
     },
     "metadata": {},
     "output_type": "display_data"
    },
    {
     "data": {
      "application/vnd.jupyter.widget-view+json": {
       "model_id": "4c471b9e1e44412ab179cb914b012c9f",
       "version_major": 2,
       "version_minor": 0
      },
      "text/plain": [
       "interactive(children=(FloatSlider(value=0.0, description='mu', max=40.0, min=-40.0, step=0.5), FloatSlider(val…"
      ]
     },
     "metadata": {},
     "output_type": "display_data"
    }
   ],
   "source": [
    "%matplotlib widget\n",
    "import ipywidgets as widgets\n",
    "from ipywidgets import interact, interact_manual\n",
    "\n",
    "fig, ax = plt.subplots()\n",
    "\n",
    "ax.set_title(\"Univariate Normal Distribution\")\n",
    "ax.set_ylabel(\"P(X)\")\n",
    "ax.set_xlabel(\"X\")\n",
    "\n",
    "\n",
    "@interact\n",
    "def plot_univariate_normal(mu=(-40, 40, 0.5), sigma=(4, 30, 0.5)):\n",
    "    x = np.linspace(mu - 3*sigma, mu + 3*sigma, 1000)\n",
    "    [l.remove() for l in ax.lines]\n",
    "    uvn_dist = Normal(mu, sigma)\n",
    "    pdf = uvn_dist.log_prob(torch.from_numpy(x)).exp()\n",
    "    ax.set_ylim(0, 0.1)\n",
    "    ax.plot(x, pdf, 'r')"
   ]
  },
  {
   "cell_type": "markdown",
   "metadata": {},
   "source": [
    "## Multivariate Normal Distribution"
   ]
  },
  {
   "cell_type": "code",
   "execution_count": 4,
   "metadata": {},
   "outputs": [],
   "source": [
    "from torch.distributions import MultivariateNormal\n",
    "\n",
    "mu = torch.tensor([0.0, 0.0], dtype=torch.float)\n",
    "C = torch.tensor([[5.0, 0.0], [0.0, 5.0]], dtype=torch.float)\n",
    "\n",
    "mvn_dist = MultivariateNormal(mu, C)\n",
    "\n",
    "X = torch.tensor([0.0, 0.0], dtype=torch.float)\n",
    "\n",
    "def formula(X, mu, C):\n",
    "    K = (1 / (2 * math.pi * torch.sqrt(C.det())))\n",
    "    X_minus_mu = (X - mu).reshape(-1, 1)\n",
    "    E1 = torch.matmul(X_minus_mu.T, C.inverse())\n",
    "    E = torch.exp(-1 / 2. * torch.matmul(E1, X_minus_mu))\n",
    "    return torch.log(K * E)\n",
    "\n",
    "log_prob = mvn_dist.log_prob(X)\n",
    "\n",
    "formula_log_prob = formula(X, mu, C)\n",
    "\n",
    "assert torch.isclose(log_prob, formula_log_prob, atol=1e-4)\n",
    "\n",
    "# Sampling\n",
    "\n",
    "num_samples = 100000\n",
    "\n",
    "samples = mvn_dist.sample([num_samples])\n",
    "\n",
    "# Mean\n",
    "    \n",
    "sample_mean = samples.mean()\n",
    "\n",
    "dist_mean = mvn_dist.mean\n",
    "\n",
    "assert torch.allclose(sample_mean, dist_mean, atol=1e-1)\n",
    "\n",
    "# Variance\n",
    "\n",
    "sample_var = mvn_dist.sample([num_samples]).var()\n",
    "\n",
    "dist_var = mvn_dist.variance\n",
    "\n",
    "assert torch.allclose(sample_var, dist_var, atol=1e-1)"
   ]
  },
  {
   "cell_type": "markdown",
   "metadata": {},
   "source": [
    "Here we allow the user to set different values for the means and covariance matrix of a 2D Normal distribution and visualise the resulting distribution. \n",
    "\n",
    "Specifically, notice that changing the mean does not change the shape of the distribution. It just varies where the distribution peaks. Changing $\\mu_{0}$ shifts the center along the X axis. Similarly changing $\\mu_{1}$ shifts the center along the Y-axis\n",
    "\n",
    "While providing values for the covariance matrix, we should ensure that the matrix is not singular.\n",
    "\n",
    "Note: In order to run this section, please download the notebook. Interactive snippets do not work online. "
   ]
  },
  {
   "cell_type": "code",
   "execution_count": 5,
   "metadata": {},
   "outputs": [
    {
     "data": {
      "application/vnd.jupyter.widget-view+json": {
       "model_id": "279ed591e0934a2f8d5c1d0d3e087b57",
       "version_major": 2,
       "version_minor": 0
      },
      "text/plain": [
       "Canvas(toolbar=Toolbar(toolitems=[('Home', 'Reset original view', 'home', 'home'), ('Back', 'Back to  previous…"
      ]
     },
     "metadata": {},
     "output_type": "display_data"
    },
    {
     "data": {
      "application/vnd.jupyter.widget-view+json": {
       "model_id": "f476efa33c964b1abaa555b75782838f",
       "version_major": 2,
       "version_minor": 0
      },
      "text/plain": [
       "interactive(children=(FloatSlider(value=0.0, description='mu0', max=5.0, min=-5.0, step=0.25), FloatSlider(val…"
      ]
     },
     "metadata": {},
     "output_type": "display_data"
    }
   ],
   "source": [
    "from mpl_toolkits.mplot3d import Axes3D # <--- This is important for 3d plotting \n",
    "from matplotlib import cm\n",
    "\n",
    "fig_1, ax_1 = plt.subplots(nrows=1, ncols=1)\n",
    "ax_1.set_title(\"Bivariate Normal Distribution\")\n",
    "ax_1 = fig_1.gca(projection='3d')\n",
    "\n",
    "\n",
    "@interact\n",
    "def plot_2d_normal(mu0=(-5, 5, 0.25), mu1=(-5, 5, 0.25),\n",
    "                   sigma_00=widgets.FloatText(1.0), \n",
    "                   sigma_01=widgets.FloatText(0.0), \n",
    "                   sigma_11 = widgets.FloatText(1.0)):\n",
    "    \n",
    "    def _reset_plot(ax):\n",
    "        ax.clear()\n",
    "        ax.set_ylabel(\"Y\")\n",
    "        ax.set_xlabel(\"X\")\n",
    "        ax.set_zlabel(\"P(X,Y)\")\n",
    "        \n",
    "    X = np.linspace(-10, 10, 1000)\n",
    "    Y = np.linspace(-10, 10, 1000)\n",
    "    X, Y = np.meshgrid(X, Y)\n",
    "    XY = np.stack((X, Y), axis=2)\n",
    "    mu = np.array([mu0, mu1])\n",
    "    sigma_10 = sigma_01 # Covariance matrix is symmetrical\n",
    "\n",
    "    C = np.array([[sigma_00, sigma_01], [sigma_10, sigma_11]])\n",
    "    try:\n",
    "        mvn_dist = MultivariateNormal(torch.from_numpy(mu), torch.from_numpy(C))\n",
    "        Z = mvn_dist.log_prob(torch.from_numpy(XY)).exp()\n",
    "        # Plot the surface.\n",
    "        _reset_plot(ax_1)\n",
    "        ax_1.plot_surface(X, Y, Z, cmap=cm.coolwarm,\n",
    "                       linewidth=0, antialiased=False)\n",
    "    except RuntimeError:\n",
    "        print(\"Error!: Covariance matrix cannot be singular!\")\n",
    "        ax_1.clear()\n",
    "    "
   ]
  },
  {
   "cell_type": "markdown",
   "metadata": {},
   "source": [
    "### Contour plots obtained from Bivariate Normal Distributions\n",
    "\n",
    "For any Bivariate normal distribution, the plot of the surface $p (x, y)$ against $(x, y)$ looks like a bell in 3D space. The shape of the bell’s base, on the $(x, y)$ plane, is governed by the 2x2 matrix $\\sum$\n",
    "\n",
    "If $\\sum$ is a diagonal matrix with equal diagonal elements, the bell is symmetric in all directions,\n",
    "its base is circular\n",
    "\n",
    "If $\\sum$ is a diagonal matrix with unequal diagonal elements, the base of the bell is elliptical.\n",
    "The axes of the ellipse are aligned with coordinate axes.\n",
    "\n",
    "For general $\\sum$ matrix the base of the bell is elliptical. The axes of the ellipse are not necessarily\n",
    "aligned with coordinate axes.\n",
    "\n",
    "Note: In order to run this section, please download the notebook. Interactive snippets do not work online. "
   ]
  },
  {
   "cell_type": "code",
   "execution_count": 6,
   "metadata": {},
   "outputs": [
    {
     "data": {
      "application/vnd.jupyter.widget-view+json": {
       "model_id": "82aa6c8735154407ab8e3404db52595f",
       "version_major": 2,
       "version_minor": 0
      },
      "text/plain": [
       "Canvas(toolbar=Toolbar(toolitems=[('Home', 'Reset original view', 'home', 'home'), ('Back', 'Back to  previous…"
      ]
     },
     "metadata": {},
     "output_type": "display_data"
    },
    {
     "data": {
      "application/vnd.jupyter.widget-view+json": {
       "model_id": "9dd46f27d2054e4aa16ff7f1966c2d30",
       "version_major": 2,
       "version_minor": 0
      },
      "text/plain": [
       "interactive(children=(FloatSlider(value=0.0, description='mu0', max=5.0, min=-5.0, step=0.25), FloatSlider(val…"
      ]
     },
     "metadata": {},
     "output_type": "display_data"
    }
   ],
   "source": [
    "fig_2, ax_2 = plt.subplots(nrows=1, ncols=1)\n",
    "\n",
    "\n",
    "@interact\n",
    "def plot_2d_normal_contour(mu0=(-5, 5, 0.25), mu1=(-5, 5, 0.25), \n",
    "                           sigma_00=widgets.FloatText(1.0), \n",
    "                           sigma_01=widgets.FloatText(0.0), \n",
    "                           sigma_11 = widgets.FloatText(1.0)):\n",
    "    def _reset_plot(ax):\n",
    "        ax.clear()\n",
    "        ax_2.set_title(\"Base of the Bivariate Normal Distribution\")\n",
    "        \n",
    "    X = np.linspace(-10, 10, 1000)\n",
    "    Y = np.linspace(-10, 10, 1000)\n",
    "    X, Y = np.meshgrid(X, Y)\n",
    "    XY = np.stack((X, Y), axis=2)\n",
    "    mu = np.array([mu0, mu1])\n",
    "    sigma_10 = sigma_01 # Covariance matrix is symmetrical\n",
    "\n",
    "    C = np.array([[sigma_00, sigma_01], [sigma_10, sigma_11]])\n",
    "    try:\n",
    "        mvn_dist = MultivariateNormal(torch.from_numpy(mu), torch.from_numpy(C))\n",
    "        Z = mvn_dist.log_prob(torch.from_numpy(XY)).exp()\n",
    "        _reset_plot(ax_2)\n",
    "        ax_2.contour(Z)\n",
    "    except RuntimeError:\n",
    "        print(\"Error!: The covariance matrix must not be singular\")\n",
    "        ax_2.clear()"
   ]
  }
 ],
 "metadata": {
  "kernelspec": {
   "display_name": "Python 3",
   "language": "python",
   "name": "python3"
  },
  "language_info": {
   "codemirror_mode": {
    "name": "ipython",
    "version": 3
   },
   "file_extension": ".py",
   "mimetype": "text/x-python",
   "name": "python",
   "nbconvert_exporter": "python",
   "pygments_lexer": "ipython3",
   "version": "3.7.5"
  }
 },
 "nbformat": 4,
 "nbformat_minor": 2
}
