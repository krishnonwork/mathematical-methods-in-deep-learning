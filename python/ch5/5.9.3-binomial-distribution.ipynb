{
 "cells": [
  {
   "cell_type": "code",
   "execution_count": 1,
   "metadata": {},
   "outputs": [],
   "source": [
    "import numpy as np\n",
    "import math\n",
    "import torch\n",
    "import torch.distributions\n",
    "from torch.distributions.binomial import Binomial\n",
    "import matplotlib.pyplot as plt"
   ]
  },
  {
   "cell_type": "markdown",
   "metadata": {},
   "source": [
    "### Binomial Distribution\n",
    "\n",
    "Consider a dataset of photos that contains 20% of celebrity faces. Let us design an experiment where we select 3 photos from the dataset. The probability of success (picking up a celebrity photo) in a single trial is 0.2 `(p=0.2)`. Probability of failure (not picking up a celebrity photo) is `1 - p = 0.8`.\n",
    "\n",
    "Say, we do `n=3` trials. The binomial distribution gives us the probability of picking up `k = 0` or `k = 1` or `k = 2` or `k = 3` celebrity photos in the 3 trials.\n",
    "\n",
    "Formally, Binomial distribution is the probability distribution of `k` successes in `n` trials, where the probability of success in any given trial is known to be `(p)`.\n",
    "\n",
    "This is given by the formula \n",
    "                          $$ P(X=k) = {n \\choose k} p^k (1-p)^{ n-k} $$\n",
    "where $ {n \\choose k} = \\frac{n!}{k!(n-k)!}$ (this is the number of ways in which we can choose k slots from n possible slots).\n",
    "\n",
    "For our experiment, `n=3` and `p=0.2`. Substituting different values of `k` from 0 to 3, we have the following probability distribution\n",
    "<table>\n",
    "    <tr>\n",
    "        <td>P(X=0) <td>0.512\n",
    "    <tr>\n",
    "    <tr>\n",
    "        <td>P(X=1)<td>0.384\n",
    "    <tr>\n",
    "    <tr>\n",
    "        <td>P(X=2)<td>0.096\n",
    "    <tr>\n",
    "    <tr>\n",
    "        <td>P(X=3)<td>0.008\n",
    "    <tr>\n",
    "<table>\n",
    "    \n",
    "The mean of the distribution is given by n x p = 3 * 0.2 = 0.6\n",
    "\n",
    "This is demonstrated by the PyTorch code below"
   ]
  },
  {
   "cell_type": "code",
   "execution_count": 2,
   "metadata": {},
   "outputs": [],
   "source": [
    "num_trials = 3 # indicates the number of times the coin is flipped in one experiment\n",
    "p = 0.2 # Probability of success\n",
    "k = torch.tensor([1], dtype=torch.float)\n",
    "num_samples = 1000000 # Number of experiment runs (each with 3 trials)\n",
    "\n",
    "# Create the binomial distribution\n",
    "binomial_dist = Binomial(num_trials, probs=torch.Tensor([p]))"
   ]
  },
  {
   "cell_type": "code",
   "execution_count": 3,
   "metadata": {},
   "outputs": [],
   "source": [
    "def nCk(n, k):\n",
    "    f = math.factorial\n",
    "    return f(n) * 1. / (f(k) * f(n-k))\n",
    "\n",
    "# Log prob\n",
    "def formula(k, n, p):\n",
    "    result = nCk(n, k) * (p ** k) * (1 - p) ** (n - k)\n",
    "    return torch.log(result)\n",
    "\n",
    "log_prob = binomial_dist.log_prob(k)\n",
    "\n",
    "formula_log_prob = formula(k, num_trials, p)\n",
    "assert torch.isclose(log_prob, formula_log_prob, atol=1e-4)"
   ]
  },
  {
   "cell_type": "code",
   "execution_count": 4,
   "metadata": {},
   "outputs": [
    {
     "name": "stdout",
     "output_type": "stream",
     "text": [
      "Number of samples: 1000000\n"
     ]
    }
   ],
   "source": [
    "# Now, we draw <num_samples> samples from the distribution. \n",
    "# Each element of the samples array represent the number of successes in that experiment.\n",
    "samples = binomial_dist.sample(torch.Size([num_samples]))\n",
    "# samples = torch.flatten(samples).tolist()\n",
    "\n",
    "print(\"Number of samples: {}\".format(len(samples)))"
   ]
  },
  {
   "cell_type": "code",
   "execution_count": 5,
   "metadata": {},
   "outputs": [
    {
     "name": "stdout",
     "output_type": "stream",
     "text": [
      "Mean: tensor([0.6000])\n",
      "Sample mean: 0.5994030237197876\n",
      "Variance: tensor([0.4800])\n",
      "Sample variance: 0.480408638715744\n"
     ]
    }
   ],
   "source": [
    "# The mean of the distribution from Pytorch\n",
    "formula_mean = binomial_dist.mean\n",
    "print(\"Mean: {}\".format(formula_mean))\n",
    "\n",
    "# Our sample mean which denotes the average number of successes\n",
    "sample_mean = samples.mean()\n",
    "print(\"Sample mean: {}\".format(sample_mean))\n",
    "\n",
    "# As expected, the two means approximately match and are equal to num_trials * p = 3 * .2 = 0.6\n",
    "assert np.isclose(sample_mean, formula_mean, atol=0.2)\n",
    "\n",
    "# The variance of the distribution from Pytorch\n",
    "formula_var = binomial_dist.variance\n",
    "print(\"Variance: {}\".format(formula_var))\n",
    "\n",
    "# Our sample variance\n",
    "sample_var = binomial_dist.sample([num_samples]).var()\n",
    "print(\"Sample variance: {}\".format(sample_var))\n",
    "\n",
    "\n",
    "#As expected, the two variances approximately match.\n",
    "assert np.isclose(sample_var, formula_var, atol=0.2)"
   ]
  },
  {
   "cell_type": "code",
   "execution_count": 6,
   "metadata": {},
   "outputs": [
    {
     "name": "stdout",
     "output_type": "stream",
     "text": [
      "0 success: 51.3%\n",
      "1 success: 38.3%\n",
      "2 success: 9.6%\n",
      "3 success: 0.8%\n"
     ]
    }
   ],
   "source": [
    "# Let us now plot the distribution of the observed data\n",
    "dist = []\n",
    "for i in range(num_trials + 1):\n",
    "    fraction = float(torch.sum(samples == i)) / num_samples\n",
    "    dist.append((i, fraction))\n",
    "    print(\"{} success: {}%\".format(i, round(fraction * 100, 1)))"
   ]
  },
  {
   "cell_type": "code",
   "execution_count": 7,
   "metadata": {},
   "outputs": [],
   "source": [
    "def plot_binomial_dist(dist):\n",
    "    fig, ax = plt.subplots(figsize=(8, 6))\n",
    "    x, y = [[d[0] for d in dist], [d[1] for d in dist]]\n",
    "    ax.plot(x, y, 'bo')\n",
    "    ax.vlines(x, 0, y, colors='r', alpha=0.5)\n",
    "    \n",
    "    ax.set_ylim(0)\n",
    "    ax.set_xlabel(\"Number of Successes\", fontsize=12)\n",
    "    ax.set_ylabel(\"P(X=k)\", fontsize=12)\n",
    "    plt.xticks(fontsize=12)\n",
    "    plt.yticks(fontsize=12)"
   ]
  },
  {
   "cell_type": "code",
   "execution_count": 8,
   "metadata": {},
   "outputs": [
    {
     "data": {
      "image/png": "[encoded data removed]",
      "text/plain": [
       "<Figure size 576x432 with 1 Axes>"
      ]
     },
     "metadata": {
      "needs_background": "light"
     },
     "output_type": "display_data"
    }
   ],
   "source": [
    "plot_binomial_dist(dist)"
   ]
  },
  {
   "cell_type": "markdown",
   "metadata": {},
   "source": [
    "Here we allow the user to set different values for the $p$ and the number of trials for a Binomial distribution and visualise the resulting probability distribution function"
   ]
  },
  {
   "cell_type": "code",
   "execution_count": 9,
   "metadata": {},
   "outputs": [
    {
     "data": {
      "application/vnd.jupyter.widget-view+json": {
       "model_id": "5580a8fe88db4991850ce602058a801a",
       "version_major": 2,
       "version_minor": 0
      },
      "text/plain": [
       "Canvas(toolbar=Toolbar(toolitems=[('Home', 'Reset original view', 'home', 'home'), ('Back', 'Back to  previous…"
      ]
     },
     "metadata": {},
     "output_type": "display_data"
    },
    {
     "data": {
      "application/vnd.jupyter.widget-view+json": {
       "model_id": "8b86fb9f8b6249a485a20bd9a4dce77e",
       "version_major": 2,
       "version_minor": 0
      },
      "text/plain": [
       "interactive(children=(FloatSlider(value=0.5, description='p', max=1.0), IntText(value=3, description='num_tria…"
      ]
     },
     "metadata": {},
     "output_type": "display_data"
    }
   ],
   "source": [
    "%matplotlib widget\n",
    "import ipywidgets as widgets\n",
    "from ipywidgets import interact, interact_manual\n",
    "\n",
    "fig_1, ax_1 = plt.subplots(nrows=1, ncols=1)\n",
    "\n",
    "@interact\n",
    "def plot_binomial_distribution(p=(0.0, 1.0), num_trials=widgets.IntText(3)):\n",
    "    def _reset_plot(ax):\n",
    "        ax.clear()\n",
    "        ax.set_ylim(0)\n",
    "        ax.set_title(\"Binomial Distribution\")\n",
    "        ax.set_xlabel(\"Number of Successes\", fontsize=12)\n",
    "        ax.set_ylabel(\"P(X=k)\", fontsize=12)\n",
    "        \n",
    "    num_samples = 1000\n",
    "    binomial_dist = Binomial(num_trials, probs=torch.Tensor([p]))\n",
    "    samples = binomial_dist.sample([num_samples])\n",
    "    dist = []\n",
    "    for i in range(num_trials + 1):\n",
    "        fraction = float(torch.sum(samples == i)) / num_samples\n",
    "        dist.append((i, fraction))\n",
    "    x, y = [[d[0] for d in dist], [d[1] for d in dist]]\n",
    "    _reset_plot(ax_1)\n",
    "    ax_1.plot(x, y, 'bo')\n",
    "    ax_1.vlines(x, 0, y, colors='r', alpha=0.5)"
   ]
  }
 ],
 "metadata": {
  "kernelspec": {
   "display_name": "Python 3",
   "language": "python",
   "name": "python3"
  },
  "language_info": {
   "codemirror_mode": {
    "name": "ipython",
    "version": 3
   },
   "file_extension": ".py",
   "mimetype": "text/x-python",
   "name": "python",
   "nbconvert_exporter": "python",
   "pygments_lexer": "ipython3",
   "version": "3.7.5"
  }
 },
 "nbformat": 4,
 "nbformat_minor": 4
}
