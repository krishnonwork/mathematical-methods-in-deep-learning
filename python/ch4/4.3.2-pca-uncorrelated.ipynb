{
 "cells": [
  {
   "cell_type": "code",
   "execution_count": 1,
   "metadata": {},
   "outputs": [],
   "source": [
    "import torch\n",
    "import matplotlib.pyplot as plt"
   ]
  },
  {
   "cell_type": "code",
   "execution_count": 2,
   "metadata": {},
   "outputs": [],
   "source": [
    "%run 4.3.2-common.ipynb"
   ]
  },
  {
   "cell_type": "code",
   "execution_count": 3,
   "metadata": {},
   "outputs": [
    {
     "name": "stdout",
     "output_type": "stream",
     "text": [
      "Principal values are tensor([9736.4033, 7876.6592])\n"
     ]
    },
    {
     "data": {
      "image/png": "[encoded data removed]",
      "text/plain": [
       "<Figure size 432x288 with 1 Axes>"
      ]
     },
     "metadata": {
      "needs_background": "light"
     },
     "output_type": "display_data"
    },
    {
     "name": "stdout",
     "output_type": "stream",
     "text": [
      "Loss in Information due to\n",
      "dimensionality reduction: 62.484107971191406\n",
      "(high - we're losing real info)\n"
     ]
    }
   ],
   "source": [
    "# Let us now try a similar experiment with\n",
    "# uncorrelated data \n",
    "N = 100\n",
    "torch.manual_seed(42)\n",
    "x_0 = torch.normal(0, 100, (N,))\n",
    "x_1 = torch.normal(0, 100, (N,))\n",
    "X = torch.column_stack((x_0, x_1))\n",
    "\n",
    "# Perform PCA\n",
    "# Note that principal values are close to\n",
    "# each other - the spread is comparable in both\n",
    "# directions.\n",
    "principal_values, principal_components = pca(X)\n",
    "principal_values = principal_values.real\n",
    "principal_components = principal_components.real\n",
    "print(\"Principal values are {}\".format(principal_values))\n",
    "\n",
    "# Find the index with highest principal value\n",
    "major_index = torch.argmax(principal_values)\n",
    "minor_index = torch.argmin(principal_values)\n",
    "\n",
    "# Plot\n",
    "plt.figure()\n",
    "plt.scatter(X[:, 0], X[: , 1],\n",
    "            color=\"green\")\n",
    "plt.title('Uncorrelated dataset')\n",
    "plt.xlabel('x0')\n",
    "plt.ylabel('x1')\n",
    "\n",
    "# Let us plot the principal components\n",
    "draw_line(principal_components[:, major_index].numpy(),\n",
    "          min_x=-200, max_x=200)\n",
    "draw_line(principal_components[:, minor_index].numpy(),\n",
    "          min_x=-150, max_x=150, color=\"red\")\n",
    "plt.show()\n",
    "\n",
    "first_principal_vec = principal_components[:,\n",
    "                                           major_index]\n",
    "first_principal_vec = first_principal_vec.reshape((-1,\n",
    "                                                   1))\n",
    "X_proj = torch.matmul(X, first_principal_vec)\n",
    "\n",
    "# Information lost due to dimensionality reduction.\n",
    "# (here we've lost real info)\n",
    "X_back_proj = torch.matmul(X_proj,\n",
    "                     torch.linalg.pinv(first_principal_vec))\n",
    "info_loss = torch.sqrt(torch.mean((X_back_proj - X)**2))\n",
    "print(\"Loss in Information due to\\ndimensionality\"\n",
    "      \" reduction: {}\\n(high - we're \"\n",
    "      \"losing real info)\".format(info_loss))"
   ]
  }
 ],
 "metadata": {
  "kernelspec": {
   "display_name": "Python 3 (ipykernel)",
   "language": "python",
   "name": "python3"
  },
  "language_info": {
   "codemirror_mode": {
    "name": "ipython",
    "version": 3
   },
   "file_extension": ".py",
   "mimetype": "text/x-python",
   "name": "python",
   "nbconvert_exporter": "python",
   "pygments_lexer": "ipython3",
   "version": "3.7.9"
  }
 },
 "nbformat": 4,
 "nbformat_minor": 2
}
